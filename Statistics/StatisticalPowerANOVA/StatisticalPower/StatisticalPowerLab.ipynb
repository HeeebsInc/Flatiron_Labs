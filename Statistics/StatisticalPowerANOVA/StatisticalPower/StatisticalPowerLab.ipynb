{
 "cells": [
  {
   "cell_type": "markdown",
   "metadata": {},
   "source": [
    "# Statistical Power - Lab\n",
    "\n",
    "## Introduction\n",
    "\n",
    "\n",
    "In this lesson, you'll practice doing a power-analysis during experimental design. As you've seen, power analysis allows you to determine the sample size required to detect an effect of a given size with a given degree of confidence. In other words, it allows you to determine the probability of detecting an effect of a given size with a given level of confidence, under-sample size constraints.\n",
    "\n",
    "The following four factors have an intimate relationship:\n",
    "\n",
    "* Sample size\n",
    "* Effect size\n",
    "* Significance level = P (Type I error) = probability of finding an effect that is not there\n",
    "* **Power = 1 - P (Type II error)** = probability of finding an effect that is there\n",
    "\n",
    "Given any three of these, we can easily determine the fourth.\n",
    "\n",
    "## Objectives\n",
    "\n",
    "In this lab you will: \n",
    "\n",
    "- Describe the impact of sample size and effect size on power \n",
    "- Perform power calculation using SciPy and Python \n",
    "- Demonstrate the combined effect of sample size and effect size on statistical power using simulations\n",
    "\n",
    "## Let's get started!\n",
    "  \n",
    "To start, let's import the necessary libraries required for this simulation: "
   ]
  },
  {
   "cell_type": "code",
   "execution_count": 1,
   "metadata": {},
   "outputs": [],
   "source": [
    "import numpy as np\n",
    "import scipy.stats as stats\n",
    "import pandas as pd\n",
    "import matplotlib.pyplot as plt\n",
    "import seaborn as sns\n",
    "from statsmodels.stats.power import TTestIndPower,TTestPower\n",
    "sns.set_style('darkgrid')"
   ]
  },
  {
   "cell_type": "markdown",
   "metadata": {},
   "source": [
    "## Scenario\n",
    "\n",
    "A researcher wants to study how daily protein supplementation in the elderly population will affect baseline liver fat. The study budget will allow enrollment of 24 patients. Half will be randomized to a placebo group and half to the protein supplement treatment group and the trial will be carried out over one month. It is desired to see whether the mean change in percentage of liver fat from baseline to the end of the study differs between the two groups in the study. \n",
    "\n",
    "With this, the researcher writes the null hypothesis: \n",
    "\n",
    "    There is no difference between experimental and control group mean change in percentage of liver fat \n",
    "    \n",
    "$$\\mu_{1} = \\mu_{2}$$\n",
    "  \n",
    "And the alternative Hypothesis:\n",
    "\n",
    "    There is a difference between experimental and control group mean change in percentage of liver fat \n",
    "\n",
    "$$\\mu_{1} \\neq \\mu_{2}$$\n",
    "    \n",
    "  \n",
    "\n",
    "The researcher needs to know what power  will be obtained under the sample size restrictions to identify a change in mean percent liver fat of 0.17. Based on past results, a common standard deviation of 0.21 will be used for each treatment group in the power analysis. \n",
    "\n",
    "To determine the practicality of this experimental design, you'll run a power analysis simulation: "
   ]
  },
  {
   "cell_type": "code",
   "execution_count": 2,
   "metadata": {},
   "outputs": [],
   "source": [
    "power_analysis=TTestIndPower()"
   ]
  },
  {
   "cell_type": "code",
   "execution_count": 3,
   "metadata": {},
   "outputs": [],
   "source": [
    "# Number of patients in each group\n",
    "sample_size = 12\n",
    "\n",
    "# Control group\n",
    "control_mean = .17\n",
    "control_sd = .21\n",
    "\n",
    "# Experimental group\n",
    "experimental_mean = 0\n",
    "experimental_sd = .21\n",
    "\n",
    "# Set the number of simulations for our test = 1000\n",
    "n_sim = 1000"
   ]
  },
  {
   "cell_type": "code",
   "execution_count": 4,
   "metadata": {},
   "outputs": [
    {
     "name": "stdout",
     "output_type": "stream",
     "text": [
      "The needed power to prove significant of mean fat is 0.47461695884129296\n"
     ]
    }
   ],
   "source": [
    "effect_size = (.17)/control_sd\n",
    "power = power_analysis.solve_power(nobs1 = 12, effect_size = effect_size, alpha = .05)\n",
    "\n",
    "print(f'The needed power to prove significant of mean fat is {power}')"
   ]
  },
  {
   "cell_type": "markdown",
   "metadata": {},
   "source": [
    "You can now start running simulations to run an independent t-test with above data and store the calculated p-value in our `p` array. Perform following tasks: \n",
    "\n",
    "* Initialize a numpy array and fill it with `NaN` values for storing the results (p_value) of the independent t-test  \n",
    "* For a defined number of simulations (i.e., 1000), do the following:\n",
    "\n",
    "    * Generate a random normal variable with control mean and sd\n",
    "    * Generate a random normal variable with experimental mean and sd\n",
    "    * Run and independent t-test using control and experimental data\n",
    "    * Store the p value for each test\n",
    "\n",
    "* Calculate the total number and overall proportion of simulations where the null hypothesis is rejected\n"
   ]
  },
  {
   "cell_type": "code",
   "execution_count": 5,
   "metadata": {},
   "outputs": [
    {
     "name": "stdout",
     "output_type": "stream",
     "text": [
      "466\n"
     ]
    },
    {
     "data": {
      "text/plain": [
       "0.466"
      ]
     },
     "execution_count": 5,
     "metadata": {},
     "output_type": "execute_result"
    }
   ],
   "source": [
    "# For reproducibility \n",
    "np.random.seed(10)\n",
    "size = 12\n",
    "# Initialize array to store results\n",
    "p = (np.empty(n_sim))\n",
    "p.fill(np.nan)\n",
    "\n",
    "#  Run a for loop for range of values in n_sim\n",
    "for i in range(n_sim): \n",
    "    random_control = np.random.normal(loc = control_mean, scale = control_sd, size = (size,))\n",
    "    random_experimental = np.random.normal(loc = experimental_mean, scale = experimental_sd, size = (size,))\n",
    "    df = size * 2 -2\n",
    "    p_value = stats.ttest_ind(random_control, random_experimental)[1]\n",
    "    \n",
    "    p[i] = p_value\n",
    "    \n",
    "#print(p)\n",
    "# number of null hypothesis rejections\n",
    "num_null_rejects = np.count_nonzero(p < .05)\n",
    "print(num_null_rejects)\n",
    "power = num_null_rejects/n_sim\n",
    "\n",
    "power\n",
    "\n",
    "# 0.495"
   ]
  },
  {
   "cell_type": "markdown",
   "metadata": {},
   "source": [
    "These results indicate that using 12 participants in each group and with given statistics, the statistical power of the experiment is 49%. This can be interpreted as follows:\n",
    "\n",
    "> **If a large effect (0.17 or greater) is truly present between control and experimental groups, then the null hypothesis (i.e. no difference with alpha 0.05) would be rejected 49% of the time. **"
   ]
  },
  {
   "cell_type": "markdown",
   "metadata": {},
   "source": [
    "## Sample size requirements for a given effect size\n",
    "\n",
    "Often in behavioral research 0.8 is accepted as a sufficient level of power.  \n",
    "\n",
    "Clearly, this is not the case for the experiment as currently designed. Determine the required sample size in order to identify a difference of 0.17 or greater between the group means with an 80% power."
   ]
  },
  {
   "cell_type": "code",
   "execution_count": null,
   "metadata": {},
   "outputs": [],
   "source": []
  },
  {
   "cell_type": "code",
   "execution_count": 6,
   "metadata": {},
   "outputs": [
    {
     "name": "stdout",
     "output_type": "stream",
     "text": [
      "544.1357761564401\n"
     ]
    }
   ],
   "source": [
    "# Determine the sample size\n",
    "target = power_analysis.solve_power(power = .8, effect_size = .17, alpha = .05)\n",
    "print(target)"
   ]
  },
  {
   "cell_type": "code",
   "execution_count": 7,
   "metadata": {},
   "outputs": [],
   "source": [
    "# Minimum sample size to start the simulations \n",
    "sample_size = 12\n",
    "null_rejected = 0\n",
    "n_sim = 10000"
   ]
  },
  {
   "cell_type": "markdown",
   "metadata": {},
   "source": [
    "As above, perform the following\n",
    "\n",
    "* Initialize an empty array for storing results\n",
    "* initialize a list for storing sample size x power summary\n",
    "* While current power is less than the target power\n",
    "    * Generate distributions for control and experimental groups using given statistics (as before)\n",
    "    * Run a t-test and store results\n",
    "    * Calculate current power \n",
    "    * Output current sample size and power calculated for inspection\n",
    "    * Store results: Sample size, power\n",
    "    * increase the sample size by 1 and repeat"
   ]
  },
  {
   "cell_type": "code",
   "execution_count": 8,
   "metadata": {},
   "outputs": [
    {
     "ename": "AssertionError",
     "evalue": "",
     "output_type": "error",
     "traceback": [
      "\u001b[0;31m---------------------------------------------------------------------------\u001b[0m",
      "\u001b[0;31mAssertionError\u001b[0m                            Traceback (most recent call last)",
      "\u001b[0;32m<ipython-input-8-a871fdc9ebee>\u001b[0m in \u001b[0;36m<module>\u001b[0;34m\u001b[0m\n\u001b[0;32m----> 1\u001b[0;31m \u001b[0;32massert\u001b[0m \u001b[0;32mFalse\u001b[0m\u001b[0;34m\u001b[0m\u001b[0;34m\u001b[0m\u001b[0m\n\u001b[0m",
      "\u001b[0;31mAssertionError\u001b[0m: "
     ]
    }
   ],
   "source": [
    "assert False"
   ]
  },
  {
   "cell_type": "code",
   "execution_count": 15,
   "metadata": {},
   "outputs": [
    {
     "name": "stderr",
     "output_type": "stream",
     "text": [
      "/Users/samuel/opt/anaconda3/lib/python3.7/site-packages/numpy/core/fromnumeric.py:3584: RuntimeWarning: Degrees of freedom <= 0 for slice\n",
      "  **kwargs)\n",
      "/Users/samuel/opt/anaconda3/lib/python3.7/site-packages/numpy/core/_methods.py:209: RuntimeWarning: invalid value encountered in double_scalars\n",
      "  ret = ret.dtype.type(ret / rcount)\n",
      "/Users/samuel/opt/anaconda3/lib/python3.7/site-packages/ipykernel_launcher.py:18: RuntimeWarning: invalid value encountered in less\n"
     ]
    },
    {
     "name": "stdout",
     "output_type": "stream",
     "text": [
      "1 0.0 0\n",
      "2 0.0 0\n",
      "3 0.0 0\n",
      "4 0.0 0\n",
      "5 0.0 0\n",
      "6 0.0 0\n",
      "7 0.0 0\n",
      "8 0.125 0.4262541152212561\n",
      "9 0.2222222222222222 0.597642527228228\n",
      "10 0.3 0.677512724489051\n",
      "11 0.2727272727272727 0.6062800411504635\n",
      "12 0.25 0.5477918428275624\n",
      "13 0.23076923076923078 0.49883380950460227\n",
      "14 0.2857142857142857 0.5465492470427658\n",
      "15 0.3333333333333333 0.5779332015464433\n",
      "16 0.3125 0.5369869759250105\n",
      "17 0.35294117647058826 0.5594017527545503\n",
      "18 0.3888888888888889 0.5753762910476337\n",
      "19 0.42105263157894735 0.5868464605819521\n",
      "20 0.45 0.5950527546972102\n",
      "21 0.47619047619047616 0.6008325286994053\n",
      "22 0.5 0.6047735443936477\n",
      "23 0.5217391304347826 0.6072977585428542\n",
      "24 0.5416666666666666 0.6087177953522659\n",
      "25 0.56 0.609268748943454\n",
      "26 0.5384615384615384 0.5815516985540883\n",
      "27 0.5185185185185185 0.5563422089979976\n",
      "28 0.5357142857142857 0.5576990148967279\n",
      "29 0.5517241379310345 0.5584377627050566\n",
      "30 0.5666666666666667 0.5586677098757564\n",
      "31 0.5806451612903226 0.5584813712733931\n",
      "32 0.59375 0.5579486065662685\n",
      "33 0.6060606060606061 0.5571228609217072\n",
      "34 0.6176470588235294 0.5560594621187722\n",
      "35 0.6285714285714286 0.5547959058985485\n",
      "36 0.6388888888888888 0.553365766519673\n",
      "37 0.6486486486486487 0.5517969581237302\n",
      "38 0.6578947368421053 0.5501087296686735\n",
      "39 0.6666666666666666 0.5483302705433419\n",
      "40 0.675 0.5464703113261696\n",
      "41 0.6829268292682927 0.5445455214946529\n",
      "42 0.6904761904761905 0.5425681138354362\n",
      "43 0.6976744186046512 0.5405486475889512\n",
      "44 0.7045454545454546 0.5384962873226071\n",
      "45 0.7111111111111111 0.5364137997497559\n",
      "46 0.717391304347826 0.5343156315458337\n",
      "47 0.723404255319149 0.5322035406079888\n",
      "48 0.7291666666666666 0.5300821387432877\n",
      "49 0.7346938775510204 0.5279560396612856\n",
      "50 0.74 0.5258288466266985\n",
      "51 0.7450980392156863 0.5237036647323269\n",
      "52 0.75 0.5215831660336799\n",
      "53 0.7547169811320755 0.5194696437990691\n",
      "54 0.7592592592592593 0.5173650562755583\n",
      "55 0.7636363636363637 0.5152710603964541\n",
      "56 0.7678571428571429 0.5131890359276152\n",
      "57 0.7719298245614035 0.5111200972072467\n",
      "58 0.7758620689655172 0.509070102273479\n",
      "59 0.7796610169491526 0.5070296360218558\n",
      "60 0.7833333333333333 0.5050070366175077\n",
      "61 0.7868852459016393 0.5030013865578998\n",
      "62 0.7903225806451613 0.5010130889918089\n",
      "63 0.7936507936507936 0.4990424659080097\n",
      "64 0.796875 0.49708986179215103\n",
      "65 0.8 0.4951565896055065\n"
     ]
    }
   ],
   "source": [
    "np.random.seed(10)\n",
    "\n",
    "p = (np.empty(n_sim))\n",
    "p.fill(np.nan)\n",
    "effect_sizes =[] \n",
    "p_new = 0\n",
    "power_sample = []\n",
    "size = 1\n",
    "while p_new < .80: \n",
    "    random_control = np.random.normal(loc = control_mean, scale = control_sd, size = (size,))\n",
    "    random_experimental = np.random.normal(loc = experimental_mean, scale = experimental_sd, size = (size,))\n",
    "    t_test = stats.ttest_ind(random_control, random_experimental)\n",
    "    \n",
    "    \n",
    "    p[size-1] = t_test[1]\n",
    "    \n",
    "    power_sample.append(size)\n",
    "    num_null_rejects = np.sum(p< .05)\n",
    "    p_new = num_null_rejects/size \n",
    "    effect_size = 0\n",
    "    try:\n",
    "        effect_size = power_analysis.solve_power(nobs1=size, power = p_new, alpha = .05)\n",
    "        effect_sizes.append(effect_size)\n",
    "    except: \n",
    "        effect_sizes.append(0)\n",
    "    print(size, p_new, effect_size)\n",
    "    size += 1\n",
    "    \n",
    "    \n",
    "# Keep iterating as shown above until desired power is obtained\n",
    "\n",
    "    "
   ]
  },
  {
   "cell_type": "code",
   "execution_count": 16,
   "metadata": {},
   "outputs": [
    {
     "name": "stdout",
     "output_type": "stream",
     "text": [
      "Study would need to use sample size of n = 65 to achieve 80% power\n"
     ]
    }
   ],
   "source": [
    "print(f'Study would need to use sample size of n = {power_sample[-1]} to achieve 80% power')"
   ]
  },
  {
   "cell_type": "markdown",
   "metadata": {},
   "source": [
    "You can also plot the calculated power against sample size to visually inspect the effect of increasing sample size. "
   ]
  },
  {
   "cell_type": "code",
   "execution_count": 17,
   "metadata": {},
   "outputs": [
    {
     "data": {
      "text/plain": [
       "[<matplotlib.lines.Line2D at 0x7ffcf03e0bd0>]"
      ]
     },
     "execution_count": 17,
     "metadata": {},
     "output_type": "execute_result"
    },
    {
     "data": {
      "image/png": "[encoded data removed]",
      "text/plain": [
       "<Figure size 432x288 with 1 Axes>"
      ]
     },
     "metadata": {},
     "output_type": "display_data"
    }
   ],
   "source": [
    "import matplotlib.pyplot as plt \n",
    "\n",
    "plt.plot(power_sample, effect_sizes)"
   ]
  },
  {
   "cell_type": "markdown",
   "metadata": {},
   "source": [
    "This output indicates that in order to get the required power (80%) to detect a difference of 0.17, you would need a considerably higher number of patients. "
   ]
  },
  {
   "cell_type": "markdown",
   "metadata": {},
   "source": [
    "## BONUS: Investigating the relationship between Power, Sample Size, and Effect Size\n",
    "\n",
    "You've seen how to calculate power given alpha, sample size, and effect size. To further investigate this relationship, it is interesting to plot the relationship between power and sample size for various effect sizes. \n",
    "\n",
    "To do this, run multiple simulations for varying parameters. Then store the parameters and plot the resulting dataset. Specifically:\n",
    "\n",
    "1. Use a value of $\\alpha$ = 0.05 for all of your simulations\n",
    "2. Use the following effect sizes: [0.01, 0.05, 0.1, 0.15, 0.2, 0.3, 0.5]\n",
    "3. Use the sample sizes from 10 to 500\n",
    "4. For each effect size sample size combination, calculate the accompanying power\n",
    "5. Plot a line graph of the power vs sample size relationship. You should have 7 plots; one for each of the effect sizes listed above. All 7 plots can be on the same graph but should be labeled appropriately. Plot the power on the y-axis and sample size on the x-axis."
   ]
  },
  {
   "cell_type": "code",
   "execution_count": null,
   "metadata": {},
   "outputs": [],
   "source": []
  },
  {
   "cell_type": "markdown",
   "metadata": {},
   "source": [
    "## Summary\n",
    "\n",
    "In this lesson, you gained further practice with \"statistical power\" and how it can be used to analyze experimental design. You ran a simulation to determine the sample size that would provide a given value of power (for a given alpha and effect size). Running simulations like this, as well as further investigations regarding required sample sizes for higher power thresholds or smaller effect sizes is critical in designing meaningful experiments where one can be confident in the subsequent conclusions drawn."
   ]
  }
 ],
 "metadata": {
  "kernelspec": {
   "display_name": "Python 3",
   "language": "python",
   "name": "python3"
  },
  "language_info": {
   "codemirror_mode": {
    "name": "ipython",
    "version": 3
   },
   "file_extension": ".py",
   "mimetype": "text/x-python",
   "name": "python",
   "nbconvert_exporter": "python",
   "pygments_lexer": "ipython3",
   "version": "3.7.6"
  },
  "toc": {
   "base_numbering": 1,
   "nav_menu": {},
   "number_sections": true,
   "sideBar": true,
   "skip_h1_title": false,
   "title_cell": "Table of Contents",
   "title_sidebar": "Contents",
   "toc_cell": false,
   "toc_position": {},
   "toc_section_display": true,
   "toc_window_display": false
  }
 },
 "nbformat": 4,
 "nbformat_minor": 2
}
